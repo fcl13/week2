{
 "metadata": {
  "name": ""
 },
 "nbformat": 3,
 "nbformat_minor": 0,
 "worksheets": [
  {
   "cells": [
    {
     "cell_type": "heading",
     "level": 1,
     "metadata": {
      "slideshow": {
       "slide_type": "slide"
      }
     },
     "source": [
      "Python syntax by example, as well as common errors"
     ]
    },
    {
     "cell_type": "heading",
     "level": 2,
     "metadata": {},
     "source": [
      "*dir* statement"
     ]
    },
    {
     "cell_type": "markdown",
     "metadata": {},
     "source": [
      "**Everything** in Python is an object. It can contain methods, variables, etc... To access them, to know what they are, type `dir`!"
     ]
    },
    {
     "cell_type": "code",
     "collapsed": false,
     "input": [
      "import numpy as np\n",
      "for elem in dir(list):\n",
      "    print elem"
     ],
     "language": "python",
     "metadata": {},
     "outputs": [
      {
       "output_type": "stream",
       "stream": "stdout",
       "text": [
        "__add__\n",
        "__class__\n",
        "__contains__\n",
        "__delattr__\n",
        "__delitem__\n",
        "__delslice__\n",
        "__doc__\n",
        "__eq__\n",
        "__format__\n",
        "__ge__\n",
        "__getattribute__\n",
        "__getitem__\n",
        "__getslice__\n",
        "__gt__\n",
        "__hash__\n",
        "__iadd__\n",
        "__imul__\n",
        "__init__\n",
        "__iter__\n",
        "__le__\n",
        "__len__\n",
        "__lt__\n",
        "__mul__\n",
        "__ne__\n",
        "__new__\n",
        "__reduce__\n",
        "__reduce_ex__\n",
        "__repr__\n",
        "__reversed__\n",
        "__rmul__\n",
        "__setattr__\n",
        "__setitem__\n",
        "__setslice__\n",
        "__sizeof__\n",
        "__str__\n",
        "__subclasshook__\n",
        "append\n",
        "count\n",
        "extend\n",
        "index\n",
        "insert\n",
        "pop\n",
        "remove\n",
        "reverse\n",
        "sort\n"
       ]
      }
     ],
     "prompt_number": 1
    },
    {
     "cell_type": "markdown",
     "metadata": {},
     "source": [
      "Private methods (normally used only internally) will have names surrounded by double underscores __"
     ]
    },
    {
     "cell_type": "markdown",
     "metadata": {},
     "source": [
      "Normal ones will usually start with lower case letters"
     ]
    },
    {
     "cell_type": "heading",
     "level": 2,
     "metadata": {
      "slideshow": {
       "slide_type": "slide"
      }
     },
     "source": [
      "*Docstrings* (more on this when talking about documentation)"
     ]
    },
    {
     "cell_type": "markdown",
     "metadata": {},
     "source": [
      "Try to tab-complete the following lines"
     ]
    },
    {
     "cell_type": "code",
     "collapsed": false,
     "input": [
      "list("
     ],
     "language": "python",
     "metadata": {},
     "outputs": [
      {
       "ename": "TypeError",
       "evalue": "Required argument 'name' (pos 1) not found",
       "output_type": "pyerr",
       "traceback": [
        "\u001b[0;31m---------------------------------------------------------------------------\u001b[0m\n\u001b[0;31mTypeError\u001b[0m                                 Traceback (most recent call last)",
        "\u001b[0;32m<ipython-input-51-f76d4434d871>\u001b[0m in \u001b[0;36m<module>\u001b[0;34m()\u001b[0m\n\u001b[1;32m      1\u001b[0m \u001b[0mlist\u001b[0m\u001b[0;34m(\u001b[0m\u001b[0;34m)\u001b[0m\u001b[0;34m\u001b[0m\u001b[0m\n\u001b[1;32m      2\u001b[0m \u001b[0;34m\u001b[0m\u001b[0m\n\u001b[0;32m----> 3\u001b[0;31m \u001b[0mopen\u001b[0m\u001b[0;34m(\u001b[0m\u001b[0;34m)\u001b[0m\u001b[0;34m\u001b[0m\u001b[0m\n\u001b[0m",
        "\u001b[0;31mTypeError\u001b[0m: Required argument 'name' (pos 1) not found"
       ]
      }
     ],
     "prompt_number": 51
    },
    {
     "cell_type": "code",
     "collapsed": false,
     "input": [
      "np.add(\n",
      "       \n",
      "np.arange("
     ],
     "language": "python",
     "metadata": {},
     "outputs": [
      {
       "metadata": {},
       "output_type": "pyout",
       "prompt_number": 52,
       "text": [
        "3"
       ]
      }
     ],
     "prompt_number": 52
    },
    {
     "cell_type": "markdown",
     "metadata": {},
     "source": [
      "When defining a function, there are certain **conventions** that allow python to extract these docstrings"
     ]
    },
    {
     "cell_type": "code",
     "collapsed": false,
     "input": [
      "def counting_sheep(coffee_cups_per_day):\n",
      "    for i in range(2*coffee_cups_per_day):\n",
      "        print i"
     ],
     "language": "python",
     "metadata": {},
     "outputs": [],
     "prompt_number": 2
    },
    {
     "cell_type": "code",
     "collapsed": false,
     "input": [
      "counting_sheep("
     ],
     "language": "python",
     "metadata": {},
     "outputs": [
      {
       "ename": "SyntaxError",
       "evalue": "unexpected EOF while parsing (<ipython-input-3-7368a41ecb5e>, line 1)",
       "output_type": "pyerr",
       "traceback": [
        "\u001b[0;36m  File \u001b[0;32m\"<ipython-input-3-7368a41ecb5e>\"\u001b[0;36m, line \u001b[0;32m1\u001b[0m\n\u001b[0;31m    counting_sheep(\u001b[0m\n\u001b[0m                   ^\u001b[0m\n\u001b[0;31mSyntaxError\u001b[0m\u001b[0;31m:\u001b[0m unexpected EOF while parsing\n"
       ]
      }
     ],
     "prompt_number": 3
    },
    {
     "cell_type": "code",
     "collapsed": false,
     "input": [
      "def counting_sheep(coffee_cups_per_day):\n",
      "    \"\"\"\n",
      "    A one line summary of the function\n",
      "    \n",
      "    A more detailled description, in which you might want\n",
      "    to specify what are the types of the expected variables\n",
      "    \n",
      "    Parameters\n",
      "    ----------\n",
      "    \n",
      "    coffee_cups_per_day: integer\n",
      "        amount of coffee consumed today\n",
      "        \n",
      "    \"\"\"\n",
      "    for i in range(2*coffee_cups_per_day):\n",
      "        print i"
     ],
     "language": "python",
     "metadata": {},
     "outputs": [],
     "prompt_number": 4
    },
    {
     "cell_type": "code",
     "collapsed": false,
     "input": [
      "counting_sheep("
     ],
     "language": "python",
     "metadata": {},
     "outputs": []
    },
    {
     "cell_type": "heading",
     "level": 2,
     "metadata": {},
     "source": [
      "*Class*"
     ]
    },
    {
     "cell_type": "code",
     "collapsed": false,
     "input": [
      "class Human(object):  # Your class should always inherit at least from the object\n",
      "    \"\"\"\n",
      "    A Human\n",
      "    \n",
      "    \"\"\"\n",
      "    \n",
      "    def __str__(self): # define the thing returned by the print statement\n",
      "        return 'My name is %s' % self.name\n",
      "    \n",
      "    def __cmp__(self, other): # define the behaviour under != operators !!\n",
      "        return self.age != other.age\n",
      "        \n",
      "    gender = 'mammal'\n",
      "    def __init__(self, Name, Age):  # constructor\n",
      "        self.name = Name\n",
      "        self.age = Age\n",
      "        \n",
      "    def set_gender(self, Gender):\n",
      "        self.gender = Gender\n",
      "        \n",
      "    def is_old(self):\n",
      "        if self.age > 30:\n",
      "            print 'Yes !'\n",
      "        else:\n",
      "            print 'Not yet !'"
     ],
     "language": "python",
     "metadata": {},
     "outputs": [],
     "prompt_number": 63
    },
    {
     "cell_type": "code",
     "collapsed": false,
     "input": [
      "John = Human('John', 31)\n",
      "\n",
      "Mary = Human('Mary', 31)\n",
      "\n",
      "print John.age, Mary.age\n",
      "\n",
      "print John.gender\n",
      "\n",
      "John.set_gender('turtoise')\n",
      "\n",
      "print John.gender"
     ],
     "language": "python",
     "metadata": {},
     "outputs": [
      {
       "output_type": "stream",
       "stream": "stdout",
       "text": [
        "31 31\n",
        "mammal\n",
        "turtoise\n"
       ]
      }
     ],
     "prompt_number": 66
    },
    {
     "cell_type": "code",
     "collapsed": false,
     "input": [
      "class Complex(object):\n",
      "    \"\"\"\n",
      "    A fake complex class\n",
      "    \"\"\"\n",
      "    \n",
      "    def __init__(self, real, imaginary):\n",
      "        self.real = real\n",
      "        self.imaginary = imaginary\n",
      "        \n",
      "\n",
      "    def __str__(self):\n",
      "        return \"%f + i*%f\" % (self.real, self.imaginary)\n",
      "    \n",
      "    \n",
      "    def __cmp__(self, other):\n",
      "        # only compare the real parts !\n",
      "        return self.real != other.real\n",
      "        "
     ],
     "language": "python",
     "metadata": {},
     "outputs": [],
     "prompt_number": 61
    },
    {
     "cell_type": "code",
     "collapsed": false,
     "input": [
      "z1 = Complex(1, 0)\n",
      "z2 = Complex(2, 1)\n",
      "\n",
      "print z1, z2\n",
      "print z1 != z2"
     ],
     "language": "python",
     "metadata": {},
     "outputs": [
      {
       "output_type": "stream",
       "stream": "stdout",
       "text": [
        "1.000000 + i*0.000000 2.000000 + i*1.000000\n",
        "True\n"
       ]
      }
     ],
     "prompt_number": 62
    },
    {
     "cell_type": "code",
     "collapsed": false,
     "input": [
      "print dir(John)\n",
      "\n",
      "print John\n",
      "\n",
      "print John.__doc__"
     ],
     "language": "python",
     "metadata": {},
     "outputs": []
    },
    {
     "cell_type": "code",
     "collapsed": false,
     "input": [
      "print John\n",
      "\n",
      "print John.__str__()"
     ],
     "language": "python",
     "metadata": {},
     "outputs": [
      {
       "output_type": "stream",
       "stream": "stdout",
       "text": [
        "My name is John\n",
        "My name is John\n"
       ]
      }
     ],
     "prompt_number": 10
    },
    {
     "cell_type": "heading",
     "level": 3,
     "metadata": {},
     "source": [
      "**Inheritance**"
     ]
    },
    {
     "cell_type": "code",
     "collapsed": false,
     "input": [
      "class Student(Human):\n",
      "    \n",
      "    def student_id(self, id_number):\n",
      "        self.id = id_number\n",
      "        \n"
     ],
     "language": "python",
     "metadata": {},
     "outputs": [],
     "prompt_number": 11
    },
    {
     "cell_type": "code",
     "collapsed": false,
     "input": [
      "Elisabeta = Student('Elisabeta', 21)\n",
      "Elisabeta.student_id(231)\n",
      "\n",
      "print Elisabeta.id"
     ],
     "language": "python",
     "metadata": {},
     "outputs": [
      {
       "output_type": "stream",
       "stream": "stdout",
       "text": [
        "231\n"
       ]
      }
     ],
     "prompt_number": 12
    },
    {
     "cell_type": "code",
     "collapsed": false,
     "input": [
      "print John.id"
     ],
     "language": "python",
     "metadata": {},
     "outputs": [
      {
       "ename": "AttributeError",
       "evalue": "'Human' object has no attribute 'id'",
       "output_type": "pyerr",
       "traceback": [
        "\u001b[0;31m---------------------------------------------------------------------------\u001b[0m\n\u001b[0;31mAttributeError\u001b[0m                            Traceback (most recent call last)",
        "\u001b[0;32m<ipython-input-13-baf946ff1b2b>\u001b[0m in \u001b[0;36m<module>\u001b[0;34m()\u001b[0m\n\u001b[0;32m----> 1\u001b[0;31m \u001b[0;32mprint\u001b[0m \u001b[0mJohn\u001b[0m\u001b[0;34m.\u001b[0m\u001b[0mid\u001b[0m\u001b[0;34m\u001b[0m\u001b[0m\n\u001b[0m",
        "\u001b[0;31mAttributeError\u001b[0m: 'Human' object has no attribute 'id'"
       ]
      }
     ],
     "prompt_number": 13
    },
    {
     "cell_type": "heading",
     "level": 2,
     "metadata": {},
     "source": [
      "*Exec*"
     ]
    },
    {
     "cell_type": "markdown",
     "metadata": {},
     "source": [
      "**exec** is used to dynamically execute a string as a python code. It is a rather complex command, but can be used easily."
     ]
    },
    {
     "cell_type": "code",
     "collapsed": false,
     "input": [
      "exec(\"a = 2\")\n",
      "print a"
     ],
     "language": "python",
     "metadata": {},
     "outputs": [
      {
       "output_type": "stream",
       "stream": "stdout",
       "text": [
        "2\n"
       ]
      }
     ],
     "prompt_number": 2
    },
    {
     "cell_type": "code",
     "collapsed": false,
     "input": [
      "names = ['toto', 'titi', 'tutu']\n",
      "\n",
      "for i in range(len(names)):\n",
      "    exec(\"names[i] = names[i] + 'x'\")\n",
      "    names[i] = names[i] + 'x'"
     ],
     "language": "python",
     "metadata": {},
     "outputs": [],
     "prompt_number": 3
    },
    {
     "cell_type": "code",
     "collapsed": false,
     "input": [
      "print names"
     ],
     "language": "python",
     "metadata": {},
     "outputs": [
      {
       "output_type": "stream",
       "stream": "stdout",
       "text": [
        "['totoxx', 'titixx', 'tutuxx']\n"
       ]
      }
     ],
     "prompt_number": 4
    },
    {
     "cell_type": "heading",
     "level": 3,
     "metadata": {},
     "source": [
      "A more tricky example"
     ]
    },
    {
     "cell_type": "code",
     "collapsed": false,
     "input": [
      "names = ['Pierre', 'Elisabeta', 'Tom']\n",
      "names.sort()\n",
      "\n",
      "max_length = len(names[0])\n",
      "\n",
      "print max_length\n",
      "\n",
      "for name in names:\n",
      "    exec 'print \"%{0}s\" % name'.format(max_length)\n"
     ],
     "language": "python",
     "metadata": {},
     "outputs": [
      {
       "output_type": "stream",
       "stream": "stdout",
       "text": [
        "9\n",
        "Elisabeta\n",
        "   Pierre\n",
        "      Tom\n"
       ]
      }
     ],
     "prompt_number": 17
    },
    {
     "cell_type": "markdown",
     "metadata": {},
     "source": [
      "A real function exists for that, tough..."
     ]
    },
    {
     "cell_type": "code",
     "collapsed": false,
     "input": [
      "for name in names:\n",
      "    print name.rjust(max_length)"
     ],
     "language": "python",
     "metadata": {},
     "outputs": [
      {
       "output_type": "stream",
       "stream": "stdout",
       "text": [
        "Elisabeta\n",
        "   Pierre\n",
        "      Tom\n"
       ]
      }
     ],
     "prompt_number": 18
    },
    {
     "cell_type": "heading",
     "level": 2,
     "metadata": {},
     "source": [
      "*With*, and some more exec"
     ]
    },
    {
     "cell_type": "code",
     "collapsed": false,
     "input": [
      "with open('test.code', 'w') as Out:\n",
      "    Out.write('a = 9\\nb = 3\\nc = b*a')    "
     ],
     "language": "python",
     "metadata": {},
     "outputs": [],
     "prompt_number": 26
    },
    {
     "cell_type": "code",
     "collapsed": false,
     "input": [
      "with open('test.code', 'r') as In:\n",
      "    for line in In:\n",
      "        print line,  # the comma tells python not to do a return carriage (display reason)"
     ],
     "language": "python",
     "metadata": {},
     "outputs": [
      {
       "output_type": "stream",
       "stream": "stdout",
       "text": [
        "a = 9\n",
        "b = 3\n",
        "c = b*a\n"
       ]
      }
     ],
     "prompt_number": 8
    },
    {
     "cell_type": "code",
     "collapsed": false,
     "input": [
      "print a"
     ],
     "language": "python",
     "metadata": {},
     "outputs": [
      {
       "output_type": "stream",
       "stream": "stdout",
       "text": [
        "2\n"
       ]
      }
     ],
     "prompt_number": 9
    },
    {
     "cell_type": "code",
     "collapsed": false,
     "input": [
      "with open('test.code', 'r') as In:\n",
      "    for line in In:\n",
      "        exec line"
     ],
     "language": "python",
     "metadata": {},
     "outputs": [],
     "prompt_number": 10
    },
    {
     "cell_type": "code",
     "collapsed": false,
     "input": [
      "print a"
     ],
     "language": "python",
     "metadata": {},
     "outputs": [
      {
       "output_type": "stream",
       "stream": "stdout",
       "text": [
        "9\n"
       ]
      }
     ],
     "prompt_number": 11
    },
    {
     "cell_type": "markdown",
     "metadata": {},
     "source": [
      "If you do not use the with statement, you have to close the file everytime. Try commenting the command `output.close()`"
     ]
    },
    {
     "cell_type": "code",
     "collapsed": false,
     "input": [
      "output = open('test2.code', 'w')\n",
      "output.write('a = 9\\nb = 3\\nc = b*a')\n",
      "output.close()  \n",
      "\n",
      "input = open('test2.code', 'r')\n",
      "for line in input:\n",
      "    print line,\n",
      "input.close()"
     ],
     "language": "python",
     "metadata": {},
     "outputs": [
      {
       "output_type": "stream",
       "stream": "stdout",
       "text": [
        "a = 9\n",
        "b = 3\n",
        "c = b*a\n"
       ]
      }
     ],
     "prompt_number": 45
    },
    {
     "cell_type": "heading",
     "level": 2,
     "metadata": {},
     "source": [
      "*Type*"
     ]
    },
    {
     "cell_type": "markdown",
     "metadata": {},
     "source": [
      "As a basic usage, it tells you the type of the object you pass as an argument - be it a string, an int, list, etc..."
     ]
    },
    {
     "cell_type": "code",
     "collapsed": false,
     "input": [
      "type('toto')"
     ],
     "language": "python",
     "metadata": {},
     "outputs": [
      {
       "metadata": {},
       "output_type": "pyout",
       "prompt_number": 27,
       "text": [
        "str"
       ]
      }
     ],
     "prompt_number": 27
    },
    {
     "cell_type": "code",
     "collapsed": false,
     "input": [
      "type(a)"
     ],
     "language": "python",
     "metadata": {},
     "outputs": [
      {
       "metadata": {},
       "output_type": "pyout",
       "prompt_number": 28,
       "text": [
        "int"
       ]
      }
     ],
     "prompt_number": 28
    },
    {
     "cell_type": "code",
     "collapsed": false,
     "input": [
      "a = 2.0\n",
      "type(a)"
     ],
     "language": "python",
     "metadata": {},
     "outputs": [
      {
       "metadata": {},
       "output_type": "pyout",
       "prompt_number": 29,
       "text": [
        "float"
       ]
      }
     ],
     "prompt_number": 29
    },
    {
     "cell_type": "code",
     "collapsed": false,
     "input": [
      "type(['toto', 'titi'])"
     ],
     "language": "python",
     "metadata": {},
     "outputs": [
      {
       "metadata": {},
       "output_type": "pyout",
       "prompt_number": 46,
       "text": [
        "list"
       ]
      }
     ],
     "prompt_number": 46
    },
    {
     "cell_type": "markdown",
     "metadata": {},
     "source": [
      "A more advanced usage: `type` to create classes on the fly !"
     ]
    },
    {
     "cell_type": "markdown",
     "metadata": {},
     "source": [
      "`type(name of the class, \n",
      "     tuple of the parent class (for inheritance, can be empty), \n",
      "     dictionary containing attributes names and values)`"
     ]
    },
    {
     "cell_type": "code",
     "collapsed": false,
     "input": [
      "child = type('child', (), {})"
     ],
     "language": "python",
     "metadata": {},
     "outputs": [],
     "prompt_number": 69
    },
    {
     "cell_type": "code",
     "collapsed": false,
     "input": [
      "Tom = child()\n",
      "Tom.name = 'Tom'\n",
      "\n",
      "Tom.name"
     ],
     "language": "python",
     "metadata": {},
     "outputs": [
      {
       "metadata": {},
       "output_type": "pyout",
       "prompt_number": 75,
       "text": [
        "'Tom'"
       ]
      }
     ],
     "prompt_number": 75
    },
    {
     "cell_type": "heading",
     "level": 2,
     "metadata": {},
     "source": [
      "Pythonic *comparison*"
     ]
    },
    {
     "cell_type": "markdown",
     "metadata": {},
     "source": [
      "How many times the sentence will be printed ?"
     ]
    },
    {
     "cell_type": "code",
     "collapsed": false,
     "input": [
      "has_food = True\n",
      "sentence = 'I am happy !'\n",
      "\n",
      "if has_food:\n",
      "    print sentence\n",
      "    \n",
      "if has_food is True:\n",
      "    print sentence\n",
      "    \n",
      "if has_food == True:\n",
      "    print sentence"
     ],
     "language": "python",
     "metadata": {},
     "outputs": [
      {
       "output_type": "stream",
       "stream": "stdout",
       "text": [
        "I am happy !\n",
        "I am happy !\n",
        "I am happy !\n"
       ]
      }
     ],
     "prompt_number": 30
    },
    {
     "cell_type": "markdown",
     "metadata": {},
     "source": [
      "Now, what is the best way to do it ? Are there any potential troubles with any of these forms ? hint: id"
     ]
    },
    {
     "cell_type": "heading",
     "level": 2,
     "metadata": {},
     "source": [
      "Deep and shallow *copy*, immutables"
     ]
    },
    {
     "cell_type": "code",
     "collapsed": false,
     "input": [
      "names = ['Elisabeta', 'Tom', 'Pierre']"
     ],
     "language": "python",
     "metadata": {},
     "outputs": [],
     "prompt_number": 68
    },
    {
     "cell_type": "code",
     "collapsed": false,
     "input": [
      "names[0]"
     ],
     "language": "python",
     "metadata": {},
     "outputs": [
      {
       "metadata": {},
       "output_type": "pyout",
       "prompt_number": 69,
       "text": [
        "'Elisabeta'"
       ]
      }
     ],
     "prompt_number": 69
    },
    {
     "cell_type": "code",
     "collapsed": false,
     "input": [
      "names[0] = 'titi'\n",
      "names"
     ],
     "language": "python",
     "metadata": {},
     "outputs": [
      {
       "metadata": {},
       "output_type": "pyout",
       "prompt_number": 70,
       "text": [
        "['titi', 'Tom', 'Pierre']"
       ]
      }
     ],
     "prompt_number": 70
    },
    {
     "cell_type": "code",
     "collapsed": false,
     "input": [
      "backup_names = names"
     ],
     "language": "python",
     "metadata": {},
     "outputs": [],
     "prompt_number": 71
    },
    {
     "cell_type": "code",
     "collapsed": false,
     "input": [
      "backup_names[1] = 'toto'"
     ],
     "language": "python",
     "metadata": {},
     "outputs": [],
     "prompt_number": 72
    },
    {
     "cell_type": "code",
     "collapsed": false,
     "input": [
      "backup_names"
     ],
     "language": "python",
     "metadata": {},
     "outputs": [
      {
       "metadata": {},
       "output_type": "pyout",
       "prompt_number": 73,
       "text": [
        "['titi', 'toto', 'Pierre']"
       ]
      }
     ],
     "prompt_number": 73
    },
    {
     "cell_type": "code",
     "collapsed": false,
     "input": [
      "names"
     ],
     "language": "python",
     "metadata": {},
     "outputs": [
      {
       "metadata": {},
       "output_type": "pyout",
       "prompt_number": 74,
       "text": [
        "['titi', 'toto', 'Pierre']"
       ]
      }
     ],
     "prompt_number": 74
    },
    {
     "cell_type": "code",
     "collapsed": false,
     "input": [
      "print id(names), id(backup_names)"
     ],
     "language": "python",
     "metadata": {},
     "outputs": [
      {
       "output_type": "stream",
       "stream": "stdout",
       "text": [
        "4506522544 4506522544\n"
       ]
      }
     ],
     "prompt_number": 76
    },
    {
     "cell_type": "code",
     "collapsed": false,
     "input": [
      "print names is backup_names\n",
      "print names == backup_names"
     ],
     "language": "python",
     "metadata": {},
     "outputs": [
      {
       "output_type": "stream",
       "stream": "stdout",
       "text": [
        "True\n",
        "True\n"
       ]
      }
     ],
     "prompt_number": 78
    },
    {
     "cell_type": "markdown",
     "metadata": {},
     "source": [
      "Arg ! What can we do ? It exists a module called `copy`, with a function called `deepcopy`"
     ]
    },
    {
     "cell_type": "code",
     "collapsed": false,
     "input": [
      "names = ['titi']\n",
      "backup_names = ['titi']"
     ],
     "language": "python",
     "metadata": {},
     "outputs": [],
     "prompt_number": 79
    },
    {
     "cell_type": "code",
     "collapsed": false,
     "input": [
      "print names is backup_names\n",
      "print names == backup_names\n",
      "\n",
      "backup_names[0] = 'toto'\n",
      "\n",
      "print names"
     ],
     "language": "python",
     "metadata": {},
     "outputs": [
      {
       "output_type": "stream",
       "stream": "stdout",
       "text": [
        "False\n",
        "True\n",
        "['titi']\n"
       ]
      }
     ],
     "prompt_number": 81
    },
    {
     "cell_type": "code",
     "collapsed": false,
     "input": [
      "from copy import deepcopy\n",
      "\n",
      "names = ['Elisabeta', 'Tom', 'Pierre']"
     ],
     "language": "python",
     "metadata": {},
     "outputs": [],
     "prompt_number": 83
    },
    {
     "cell_type": "code",
     "collapsed": false,
     "input": [
      "backup_names = deepcopy(names)"
     ],
     "language": "python",
     "metadata": {},
     "outputs": [],
     "prompt_number": 84
    },
    {
     "cell_type": "code",
     "collapsed": false,
     "input": [
      "backup_names[2] = 'tutu'\n",
      "print backup_names\n",
      "print names\n",
      "\n",
      "print id(names), id(backup_names)"
     ],
     "language": "python",
     "metadata": {},
     "outputs": [
      {
       "output_type": "stream",
       "stream": "stdout",
       "text": [
        "['Elisabeta', 'Tom', 'tutu']\n",
        "['Elisabeta', 'Tom', 'Pierre']\n",
        "4522838784 4522836984\n"
       ]
      }
     ],
     "prompt_number": 86
    },
    {
     "cell_type": "heading",
     "level": 3,
     "metadata": {},
     "source": [
      "A trick to avoid with slicing"
     ]
    },
    {
     "cell_type": "markdown",
     "metadata": {},
     "source": [
      "This looks like a good idea:"
     ]
    },
    {
     "cell_type": "code",
     "collapsed": false,
     "input": [
      "L = ['red', 'green']\n",
      "\n",
      "Lcopy = L[:]\n",
      "\n",
      "L[1] = 'blue'\n",
      "\n",
      "print Lcopy, L"
     ],
     "language": "python",
     "metadata": {},
     "outputs": [
      {
       "output_type": "stream",
       "stream": "stdout",
       "text": [
        "['red', 'green'] ['red', 'blue']\n"
       ]
      }
     ],
     "prompt_number": 87
    },
    {
     "cell_type": "markdown",
     "metadata": {},
     "source": [
      "But it is in fact a very bad one..."
     ]
    },
    {
     "cell_type": "code",
     "collapsed": false,
     "input": [
      "L = [['red', 'green'],\n",
      "     ['hot', 'nature']]\n",
      "\n",
      "Lcopy = L[:]\n",
      "\n",
      "L[0][1] = 'blue'\n",
      "\n",
      "print Lcopy, L"
     ],
     "language": "python",
     "metadata": {},
     "outputs": [
      {
       "output_type": "stream",
       "stream": "stdout",
       "text": [
        "[['red', 'blue'], ['hot', 'nature']] [['red', 'blue'], ['hot', 'nature']]\n"
       ]
      }
     ],
     "prompt_number": 89
    },
    {
     "cell_type": "markdown",
     "metadata": {},
     "source": [
      "Arg ! Use deepcopy there..."
     ]
    },
    {
     "cell_type": "code",
     "collapsed": false,
     "input": [
      "L = [['red', 'green'],\n",
      "     ['hot', 'nature']]\n",
      "\n",
      "Lcopy = deepcopy(L)\n",
      "\n",
      "L[0][1] = 'blue'\n",
      "\n",
      "print Lcopy, L"
     ],
     "language": "python",
     "metadata": {},
     "outputs": [
      {
       "output_type": "stream",
       "stream": "stdout",
       "text": [
        "[['red', 'green'], ['hot', 'nature']] [['red', 'blue'], ['hot', 'nature']]\n"
       ]
      }
     ],
     "prompt_number": 90
    },
    {
     "cell_type": "markdown",
     "metadata": {},
     "source": [
      "Note that the first example worked because they were tuples..."
     ]
    },
    {
     "cell_type": "code",
     "collapsed": false,
     "input": [
      "L = [('red', 'green'),\n",
      "     ('hot', 'nature')]\n",
      "\n",
      "Lcopy = L[:]\n",
      "\n",
      "L[0] = ('blue', 'red')\n",
      "\n",
      "print Lcopy, L"
     ],
     "language": "python",
     "metadata": {},
     "outputs": [
      {
       "output_type": "stream",
       "stream": "stdout",
       "text": [
        "[('red', 'green'), ('hot', 'nature')] [('blue', 'red'), ('hot', 'nature')]\n"
       ]
      }
     ],
     "prompt_number": 92
    },
    {
     "cell_type": "code",
     "collapsed": false,
     "input": [
      "L = ['one', 'two', 'three', 'three']\n",
      "\n",
      "M = ['one']\n",
      "\n",
      "M = set(M)\n",
      "L = set(L)\n",
      "\n",
      "print M <= L  # meaningful comparison\n",
      "\n",
      "print list(set(L))  # order is not kept !"
     ],
     "language": "python",
     "metadata": {},
     "outputs": [
      {
       "output_type": "stream",
       "stream": "stdout",
       "text": [
        "True\n",
        "['one', 'three', 'two']\n"
       ]
      }
     ],
     "prompt_number": 104
    },
    {
     "cell_type": "heading",
     "level": 2,
     "metadata": {},
     "source": [
      "*Decorators*"
     ]
    },
    {
     "cell_type": "markdown",
     "metadata": {},
     "source": [
      "A **decorator** is a `function` that that returns a **decorated** function..."
     ]
    },
    {
     "cell_type": "markdown",
     "metadata": {},
     "source": [
      "How can you return a function ? Because python functions are **objects** !"
     ]
    },
    {
     "cell_type": "code",
     "collapsed": false,
     "input": [
      "def shout(word=\"yes\"):\n",
      "    return word.capitalize()+\"!\"\n",
      "\n",
      "print shout()"
     ],
     "language": "python",
     "metadata": {},
     "outputs": [
      {
       "output_type": "stream",
       "stream": "stdout",
       "text": [
        "Yes!\n"
       ]
      }
     ],
     "prompt_number": 85
    },
    {
     "cell_type": "code",
     "collapsed": false,
     "input": [
      "scream = shout"
     ],
     "language": "python",
     "metadata": {},
     "outputs": [],
     "prompt_number": 86
    },
    {
     "cell_type": "code",
     "collapsed": false,
     "input": [
      "print scream()"
     ],
     "language": "python",
     "metadata": {},
     "outputs": [
      {
       "output_type": "stream",
       "stream": "stdout",
       "text": [
        "Yes!\n"
       ]
      }
     ],
     "prompt_number": 87
    },
    {
     "cell_type": "code",
     "collapsed": false,
     "input": [
      "del shout\n",
      "try:\n",
      "    print shout()\n",
      "except NameError, e:\n",
      "    print e\n",
      "\n",
      "print scream()"
     ],
     "language": "python",
     "metadata": {},
     "outputs": [
      {
       "output_type": "stream",
       "stream": "stdout",
       "text": [
        "name 'shout' is not defined\n",
        "Yes!\n"
       ]
      }
     ],
     "prompt_number": 88
    },
    {
     "cell_type": "code",
     "collapsed": false,
     "input": [],
     "language": "python",
     "metadata": {},
     "outputs": []
    }
   ],
   "metadata": {}
  }
 ]
}