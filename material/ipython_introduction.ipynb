{
 "metadata": {
  "name": ""
 },
 "nbformat": 3,
 "nbformat_minor": 0,
 "worksheets": [
  {
   "cells": [
    {
     "cell_type": "heading",
     "level": 1,
     "metadata": {},
     "source": [
      " Introduction to the IPython notebook"
     ]
    },
    {
     "cell_type": "markdown",
     "metadata": {},
     "source": [
      "from Euroscipy2013 - Valentin Haenel"
     ]
    },
    {
     "cell_type": "heading",
     "level": 2,
     "metadata": {},
     "source": [
      "Basics\n",
      "\n"
     ]
    },
    {
     "cell_type": "markdown",
     "metadata": {},
     "source": [
      "* The notebook consists of individual cells\n",
      "* Each cell may contain code or text (amongst other options)\n",
      "* Text format can be [markdown](http://daringfireball.net/projects/markdown), HTML or LaTeX\n",
      "* Code cells are run using:\n",
      " * **shift + enter** will move to next cell\n",
      " * **ctrl + enter** will stay in the current cell\n",
      "* Markdown cells can be modified by double-clicking on them"
     ]
    },
    {
     "cell_type": "code",
     "collapsed": false,
     "input": [
      "\"Hello IPython notebook!\""
     ],
     "language": "python",
     "metadata": {},
     "outputs": [
      {
       "metadata": {},
       "output_type": "pyout",
       "prompt_number": 1,
       "text": [
        "'Hello IPython notebook!'"
       ]
      }
     ],
     "prompt_number": 1
    },
    {
     "cell_type": "code",
     "collapsed": false,
     "input": [
      "# Only the last statement will be shown\n",
      "L = ['red', 'blue', 'green', 'black', 'white']\n",
      "type(L)\n",
      "#sorted(L) # uncomment this line to show the sorted list instead of the type"
     ],
     "language": "python",
     "metadata": {},
     "outputs": [
      {
       "metadata": {},
       "output_type": "pyout",
       "prompt_number": 2,
       "text": [
        "list"
       ]
      }
     ],
     "prompt_number": 2
    },
    {
     "cell_type": "code",
     "collapsed": false,
     "input": [
      "# An example code cell using stuff from pylab\n",
      "%pylab\n",
      "# numpy's linspace and pi\n",
      "x = linspace(0, 3*pi, 500)\n",
      "\n",
      "# matplotlib's plot and title\n",
      "plot(x, sin(x**3))\n",
      "title('A simple chirp');"
     ],
     "language": "python",
     "metadata": {
      "slideshow": {
       "slide_start": false
      }
     },
     "outputs": [
      {
       "output_type": "stream",
       "stream": "stdout",
       "text": [
        "Using matplotlib backend: MacOSX\n",
        "Populating the interactive namespace from numpy and matplotlib\n"
       ]
      }
     ],
     "prompt_number": 3
    },
    {
     "cell_type": "code",
     "collapsed": false,
     "input": [
      "# Errors lead to detailed tracebacks\n",
      "x = \"Hello IPython!\"\n",
      "\n",
      "y = 42\n",
      "\n",
      "z = x + y"
     ],
     "language": "python",
     "metadata": {
      "slideshow": {
       "slide_start": false
      }
     },
     "outputs": [
      {
       "ename": "TypeError",
       "evalue": "cannot concatenate 'str' and 'int' objects",
       "output_type": "pyerr",
       "traceback": [
        "\u001b[0;31m---------------------------------------------------------------------------\u001b[0m\n\u001b[0;31mTypeError\u001b[0m                                 Traceback (most recent call last)",
        "\u001b[0;32m<ipython-input-4-7c5427b1a943>\u001b[0m in \u001b[0;36m<module>\u001b[0;34m()\u001b[0m\n\u001b[1;32m      4\u001b[0m \u001b[0my\u001b[0m \u001b[0;34m=\u001b[0m \u001b[0;36m42\u001b[0m\u001b[0;34m\u001b[0m\u001b[0m\n\u001b[1;32m      5\u001b[0m \u001b[0;34m\u001b[0m\u001b[0m\n\u001b[0;32m----> 6\u001b[0;31m \u001b[0mz\u001b[0m \u001b[0;34m=\u001b[0m \u001b[0mx\u001b[0m \u001b[0;34m+\u001b[0m \u001b[0my\u001b[0m\u001b[0;34m\u001b[0m\u001b[0m\n\u001b[0m",
        "\u001b[0;31mTypeError\u001b[0m: cannot concatenate 'str' and 'int' objects"
       ]
      }
     ],
     "prompt_number": 4
    },
    {
     "cell_type": "code",
     "collapsed": false,
     "input": [
      "# Echo the version of IPython\n",
      "import IPython\n",
      "IPython.__version__"
     ],
     "language": "python",
     "metadata": {},
     "outputs": []
    },
    {
     "cell_type": "heading",
     "level": 2,
     "metadata": {},
     "source": [
      "Navigation and cell manipulation"
     ]
    },
    {
     "cell_type": "markdown",
     "metadata": {},
     "source": [
      "* You can:\n",
      " * Select/add/delete/move/insert cells\n",
      "\n",
      "* Using:\n",
      " * Menu\n",
      " * Toolbar\n",
      " * Keyboard shortcuts (via the Help menu)"
     ]
    },
    {
     "cell_type": "heading",
     "level": 3,
     "metadata": {},
     "source": [
      "Exercise"
     ]
    },
    {
     "cell_type": "markdown",
     "metadata": {},
     "source": [
      "* Create a markdown cell, a header cell and a code cell\n",
      "* Move the cells around using Edit-> Move Cell\n",
      "* Cut and paste a cell to a different location\n",
      "* Use the menu, the toolbar and look at the keyboard shortcuts\n",
      "* Try **shift + enter** when on the last cell in the notebook. What happens?"
     ]
    },
    {
     "cell_type": "code",
     "collapsed": false,
     "input": [
      "x = 'toto'"
     ],
     "language": "python",
     "metadata": {},
     "outputs": []
    },
    {
     "cell_type": "code",
     "collapsed": false,
     "input": [
      "y = 'titi'"
     ],
     "language": "python",
     "metadata": {},
     "outputs": []
    },
    {
     "cell_type": "heading",
     "level": 2,
     "metadata": {},
     "source": [
      "Markdown Cells"
     ]
    },
    {
     "cell_type": "markdown",
     "metadata": {},
     "source": [
      "Markdown basics: lists, markup and code\n",
      "\n",
      "+ list item \n",
      "+ list item\n",
      " * nested list item\n",
      "\n",
      "\n",
      "+ *italics*\n",
      "+ **bold**\n",
      "+ `fixed_font`\n",
      "\n",
      "Code examples:\n",
      "\n",
      " def hello_ipython():\n",
      " print \"Hello IPython!\""
     ]
    },
    {
     "cell_type": "markdown",
     "metadata": {},
     "source": [
      "Markdown cells can also contain HTML\n",
      "\n",
      "<p>Markdown basics: lists, markup and code</p>\n",
      "\n",
      "<ul>\n",
      "<li>list item</li>\n",
      "<li><p>list item</p>\n",
      "\n",
      "<ul>\n",
      "<li>nested list item</li>\n",
      "</ul></li>\n",
      "<li><p><em>italics</em></p></li>\n",
      "<li><strong>bold</strong></li>\n",
      "\n",
      "<li><code>fixed_font</code></li>\n",
      "</ul>\n",
      "\n",
      "<p>Code examples:</p>\n",
      "\n",
      "<pre><code>def hello_ipython():\n",
      " print \"Hello IPython!\"\n",
      "</code></pre>"
     ]
    },
    {
     "cell_type": "markdown",
     "metadata": {},
     "source": [
      "Using math mode (anything between two `$`s or two `$$`s) is interpreted as $LaTeX$ math:\n",
      "\n",
      "$$ D_{KL}(P||Q) = \\sum\\limits_{i}ln (\\frac{P(i)}{Q(i)}) P(i)$$"
     ]
    },
    {
     "cell_type": "heading",
     "level": 3,
     "metadata": {},
     "source": [
      "Exercises"
     ]
    },
    {
     "cell_type": "markdown",
     "metadata": {},
     "source": [
      "* Modify or create a markdown cell and use:\n",
      " * Markdown\n",
      " * HTML\n",
      " * LateX math\n",
      "\n",
      "* Use either `$` or ``$$`` for the math expressions. What is the difference?\n",
      "\n",
      "* Look at the [markdown syntax page](http://daringfireball.net/projects/markdown/syntax#span) (or this cell) to find out how to create hyperlinks"
     ]
    },
    {
     "cell_type": "heading",
     "level": 2,
     "metadata": {},
     "source": [
      "Help"
     ]
    },
    {
     "cell_type": "code",
     "collapsed": false,
     "input": [
      "# Help on python objects using the '?'\n",
      "import IPython\n",
      "IPython?"
     ],
     "language": "python",
     "metadata": {},
     "outputs": [],
     "prompt_number": 10
    },
    {
     "cell_type": "code",
     "collapsed": false,
     "input": [
      "# Using the built-in help\n",
      "help(IPython)"
     ],
     "language": "python",
     "metadata": {},
     "outputs": [
      {
       "output_type": "stream",
       "stream": "stdout",
       "text": [
        "Help on package IPython:\n",
        "\n",
        "NAME\n",
        "    IPython - IPython: tools for interactive and parallel computing in Python.\n",
        "\n",
        "FILE\n",
        "    /opt/local/Library/Frameworks/Python.framework/Versions/2.7/lib/python2.7/site-packages/IPython/__init__.py\n",
        "\n",
        "DESCRIPTION\n",
        "    http://ipython.org\n",
        "\n",
        "PACKAGE CONTENTS\n",
        "    __main__\n",
        "    config (package)\n",
        "    consoleapp\n",
        "    core (package)\n",
        "    display\n",
        "    extensions (package)\n",
        "    external (package)\n",
        "    frontend\n",
        "    html (package)\n",
        "    kernel (package)\n",
        "    lib (package)\n",
        "    nbconvert (package)\n",
        "    nbformat (package)\n",
        "    parallel (package)\n",
        "    qt (package)\n",
        "    scripts (package)\n",
        "    sphinxext (package)\n",
        "    terminal (package)\n",
        "    testing (package)\n",
        "    utils (package)\n",
        "\n",
        "SUBMODULES\n",
        "    release\n",
        "\n",
        "FUNCTIONS\n",
        "    embed_kernel(module=None, local_ns=None, **kwargs)\n",
        "        Embed and start an IPython kernel in a given scope.\n",
        "        \n",
        "        If you don't want the kernel to initialize the namespace\n",
        "        from the scope of the surrounding function,\n",
        "        and/or you want to load full IPython configuration,\n",
        "        you probably want `IPython.start_kernel()` instead.\n",
        "        \n",
        "        Parameters\n",
        "        ----------\n",
        "        module : ModuleType, optional\n",
        "            The module to load into IPython globals (default: caller)\n",
        "        local_ns : dict, optional\n",
        "            The namespace to load into IPython user namespace (default: caller)\n",
        "        \n",
        "        kwargs : various, optional\n",
        "            Further keyword args are relayed to the IPKernelApp constructor,\n",
        "            allowing configuration of the Kernel.  Will only have an effect\n",
        "            on the first embed_kernel call for a given process.\n",
        "    \n",
        "    start_ipython(argv=None, **kwargs)\n",
        "        Launch a normal IPython instance (as opposed to embedded)\n",
        "        \n",
        "        `IPython.embed()` puts a shell in a particular calling scope,\n",
        "        such as a function or method for debugging purposes,\n",
        "        which is often not desirable.\n",
        "        \n",
        "        `start_ipython()` does full, regular IPython initialization,\n",
        "        including loading startup files, configuration, etc.\n",
        "        much of which is skipped by `embed()`.\n",
        "        \n",
        "        This is a public API method, and will survive implementation changes.\n",
        "        \n",
        "        Parameters\n",
        "        ----------\n",
        "        \n",
        "        argv : list or None, optional\n",
        "            If unspecified or None, IPython will parse command-line options from sys.argv.\n",
        "            To prevent any command-line parsing, pass an empty list: `argv=[]`.\n",
        "        user_ns : dict, optional\n",
        "            specify this dictionary to initialize the IPython user namespace with particular values.\n",
        "        kwargs : various, optional\n",
        "            Any other kwargs will be passed to the Application constructor,\n",
        "            such as `config`.\n",
        "    \n",
        "    start_kernel(argv=None, **kwargs)\n",
        "        Launch a normal IPython kernel instance (as opposed to embedded)\n",
        "        \n",
        "        `IPython.embed_kernel()` puts a shell in a particular calling scope,\n",
        "        such as a function or method for debugging purposes,\n",
        "        which is often not desirable.\n",
        "        \n",
        "        `start_kernel()` does full, regular IPython initialization,\n",
        "        including loading startup files, configuration, etc.\n",
        "        much of which is skipped by `embed()`.\n",
        "        \n",
        "        Parameters\n",
        "        ----------\n",
        "        \n",
        "        argv : list or None, optional\n",
        "            If unspecified or None, IPython will parse command-line options from sys.argv.\n",
        "            To prevent any command-line parsing, pass an empty list: `argv=[]`.\n",
        "        user_ns : dict, optional\n",
        "            specify this dictionary to initialize the IPython user namespace with particular values.\n",
        "        kwargs : various, optional\n",
        "            Any other kwargs will be passed to the Application constructor,\n",
        "            such as `config`.\n",
        "\n",
        "DATA\n",
        "    __author__ = 'The IPython Development Team <ipython-dev@scipy.org>'\n",
        "    __license__ = 'BSD'\n",
        "    __version__ = '1.1.0'\n",
        "    absolute_import = _Feature((2, 5, 0, 'alpha', 1), (3, 0, 0, 'alpha', 0...\n",
        "    version_info = (1, 1, 0, '')\n",
        "\n",
        "VERSION\n",
        "    1.1.0\n",
        "\n",
        "AUTHOR\n",
        "    The IPython Development Team <ipython-dev@scipy.org>\n",
        "\n",
        "\n"
       ]
      }
     ],
     "prompt_number": 11
    },
    {
     "cell_type": "markdown",
     "metadata": {},
     "source": [
      "Double click on the divider to close the help console\n"
     ]
    },
    {
     "cell_type": "code",
     "collapsed": false,
     "input": [
      "# Tab completion is available\n",
      "IPython. # press TAB after the period"
     ],
     "language": "python",
     "metadata": {},
     "outputs": [
      {
       "ename": "MultipleInstanceError",
       "evalue": "Multiple incompatible subclass instances of TerminalIPythonApp are being created.",
       "output_type": "pyerr",
       "traceback": [
        "\u001b[0;31m---------------------------------------------------------------------------\u001b[0m\n\u001b[0;31mMultipleInstanceError\u001b[0m                     Traceback (most recent call last)",
        "\u001b[0;32m<ipython-input-12-014ef4fc938f>\u001b[0m in \u001b[0;36m<module>\u001b[0;34m()\u001b[0m\n\u001b[1;32m      1\u001b[0m \u001b[0;31m# Tab completion is available\u001b[0m\u001b[0;34m\u001b[0m\u001b[0;34m\u001b[0m\u001b[0m\n\u001b[0;32m----> 2\u001b[0;31m \u001b[0mIPython\u001b[0m\u001b[0;34m.\u001b[0m\u001b[0mstart_ipython\u001b[0m\u001b[0;34m(\u001b[0m\u001b[0;34m)\u001b[0m \u001b[0;31m# press TAB after the period\u001b[0m\u001b[0;34m\u001b[0m\u001b[0m\n\u001b[0m",
        "\u001b[0;32m/opt/local/Library/Frameworks/Python.framework/Versions/2.7/lib/python2.7/site-packages/IPython/__init__.pyc\u001b[0m in \u001b[0;36mstart_ipython\u001b[0;34m(argv, **kwargs)\u001b[0m\n\u001b[1;32m    116\u001b[0m     \"\"\"\n\u001b[1;32m    117\u001b[0m     \u001b[0;32mfrom\u001b[0m \u001b[0mIPython\u001b[0m\u001b[0;34m.\u001b[0m\u001b[0mterminal\u001b[0m\u001b[0;34m.\u001b[0m\u001b[0mipapp\u001b[0m \u001b[0;32mimport\u001b[0m \u001b[0mlaunch_new_instance\u001b[0m\u001b[0;34m\u001b[0m\u001b[0m\n\u001b[0;32m--> 118\u001b[0;31m     \u001b[0;32mreturn\u001b[0m \u001b[0mlaunch_new_instance\u001b[0m\u001b[0;34m(\u001b[0m\u001b[0margv\u001b[0m\u001b[0;34m=\u001b[0m\u001b[0margv\u001b[0m\u001b[0;34m,\u001b[0m \u001b[0;34m**\u001b[0m\u001b[0mkwargs\u001b[0m\u001b[0;34m)\u001b[0m\u001b[0;34m\u001b[0m\u001b[0m\n\u001b[0m\u001b[1;32m    119\u001b[0m \u001b[0;34m\u001b[0m\u001b[0m\n\u001b[1;32m    120\u001b[0m \u001b[0;32mdef\u001b[0m \u001b[0mstart_kernel\u001b[0m\u001b[0;34m(\u001b[0m\u001b[0margv\u001b[0m\u001b[0;34m=\u001b[0m\u001b[0mNone\u001b[0m\u001b[0;34m,\u001b[0m \u001b[0;34m**\u001b[0m\u001b[0mkwargs\u001b[0m\u001b[0;34m)\u001b[0m\u001b[0;34m:\u001b[0m\u001b[0;34m\u001b[0m\u001b[0m\n",
        "\u001b[0;32m/opt/local/Library/Frameworks/Python.framework/Versions/2.7/lib/python2.7/site-packages/IPython/config/application.pyc\u001b[0m in \u001b[0;36mlaunch_instance\u001b[0;34m(cls, argv, **kwargs)\u001b[0m\n\u001b[1;32m    541\u001b[0m         \u001b[0mIf\u001b[0m \u001b[0ma\u001b[0m \u001b[0;32mglobal\u001b[0m \u001b[0minstance\u001b[0m \u001b[0malready\u001b[0m \u001b[0mexists\u001b[0m\u001b[0;34m,\u001b[0m \u001b[0mthis\u001b[0m \u001b[0mreinitializes\u001b[0m \u001b[0;32mand\u001b[0m \u001b[0mstarts\u001b[0m \u001b[0mit\u001b[0m\u001b[0;34m\u001b[0m\u001b[0m\n\u001b[1;32m    542\u001b[0m         \"\"\"\n\u001b[0;32m--> 543\u001b[0;31m         \u001b[0mapp\u001b[0m \u001b[0;34m=\u001b[0m \u001b[0mcls\u001b[0m\u001b[0;34m.\u001b[0m\u001b[0minstance\u001b[0m\u001b[0;34m(\u001b[0m\u001b[0;34m**\u001b[0m\u001b[0mkwargs\u001b[0m\u001b[0;34m)\u001b[0m\u001b[0;34m\u001b[0m\u001b[0m\n\u001b[0m\u001b[1;32m    544\u001b[0m         \u001b[0mapp\u001b[0m\u001b[0;34m.\u001b[0m\u001b[0minitialize\u001b[0m\u001b[0;34m(\u001b[0m\u001b[0margv\u001b[0m\u001b[0;34m)\u001b[0m\u001b[0;34m\u001b[0m\u001b[0m\n\u001b[1;32m    545\u001b[0m         \u001b[0mapp\u001b[0m\u001b[0;34m.\u001b[0m\u001b[0mstart\u001b[0m\u001b[0;34m(\u001b[0m\u001b[0;34m)\u001b[0m\u001b[0;34m\u001b[0m\u001b[0m\n",
        "\u001b[0;32m/opt/local/Library/Frameworks/Python.framework/Versions/2.7/lib/python2.7/site-packages/IPython/config/configurable.pyc\u001b[0m in \u001b[0;36minstance\u001b[0;34m(cls, *args, **kwargs)\u001b[0m\n\u001b[1;32m    358\u001b[0m             raise MultipleInstanceError(\n\u001b[1;32m    359\u001b[0m                 \u001b[0;34m'Multiple incompatible subclass instances of '\u001b[0m\u001b[0;34m\u001b[0m\u001b[0m\n\u001b[0;32m--> 360\u001b[0;31m                 \u001b[0;34m'%s are being created.'\u001b[0m \u001b[0;34m%\u001b[0m \u001b[0mcls\u001b[0m\u001b[0;34m.\u001b[0m\u001b[0m__name__\u001b[0m\u001b[0;34m\u001b[0m\u001b[0m\n\u001b[0m\u001b[1;32m    361\u001b[0m             )\n\u001b[1;32m    362\u001b[0m \u001b[0;34m\u001b[0m\u001b[0m\n",
        "\u001b[0;31mMultipleInstanceError\u001b[0m: Multiple incompatible subclass instances of TerminalIPythonApp are being created."
       ]
      }
     ],
     "prompt_number": 12
    },
    {
     "cell_type": "markdown",
     "metadata": {},
     "source": [
      "The *Help* menu item has links to IPython and the scientific packages"
     ]
    },
    {
     "cell_type": "heading",
     "level": 2,
     "metadata": {},
     "source": [
      "Loading and Saving"
     ]
    },
    {
     "cell_type": "markdown",
     "metadata": {},
     "source": [
      "* Dashboard shows all notebooks in the directory where it was started from\n",
      "* Use the dashboard to create new notebooks\n",
      "* Files saved as JSON with the ``.ipynb`` extension\n",
      "* Not meant for human consumption\n"
     ]
    },
    {
     "cell_type": "markdown",
     "metadata": {},
     "source": [
      "* Use File -> Print View for a version without the controls\n",
      "* Execute the cells who's output you want to show\n",
      "* Save to HTML or print to PDF"
     ]
    },
    {
     "cell_type": "markdown",
     "metadata": {},
     "source": [
      "* When running from someone else's server, use File -> Download\n",
      "* Either as ``*.ipynb`` file\n",
      "* Or as ``*.py`` file with the markdown as comments\n",
      "* [``*.py`` file can also be imported](http://ipython.org/ipython-doc/dev/interactive/htmlnotebook.html#exporting-a-notebook-and-importing-existing-scripts)"
     ]
    },
    {
     "cell_type": "markdown",
     "metadata": {},
     "source": [
      "* There is also the online [nbviewer](http://nbviewer.ipython.org/)\n",
      "* This can render a static version of a publicly available notebook."
     ]
    },
    {
     "cell_type": "heading",
     "level": 3,
     "metadata": {},
     "source": [
      "Exercises"
     ]
    },
    {
     "cell_type": "markdown",
     "metadata": {},
     "source": [
      "* Create a new notebook from the dashboard\n",
      "* Look at a saved ``*.ipynb`` file. Can you decipher it at least somewhat.\n",
      "* Save the notebook as ``*.py`` file. What does this look like in the editor?\n",
      "* Find an IPython notebook online and try it with the nbviewer site."
     ]
    },
    {
     "cell_type": "heading",
     "level": 2,
     "metadata": {},
     "source": [
      "Images and Video"
     ]
    },
    {
     "cell_type": "code",
     "collapsed": false,
     "input": [
      "from IPython.display import Image\n",
      "\n",
      "Image(filename='images/logo.png')"
     ],
     "language": "python",
     "metadata": {
      "slideshow": {
       "slide_start": false
      }
     },
     "outputs": [
      {
       "ename": "IOError",
       "evalue": "[Errno 2] No such file or directory: u'images/logo.png'",
       "output_type": "pyerr",
       "traceback": [
        "\u001b[0;31m---------------------------------------------------------------------------\u001b[0m\n\u001b[0;31mIOError\u001b[0m                                   Traceback (most recent call last)",
        "\u001b[0;32m<ipython-input-13-62938b77e6f8>\u001b[0m in \u001b[0;36m<module>\u001b[0;34m()\u001b[0m\n\u001b[1;32m      1\u001b[0m \u001b[0;32mfrom\u001b[0m \u001b[0mIPython\u001b[0m\u001b[0;34m.\u001b[0m\u001b[0mdisplay\u001b[0m \u001b[0;32mimport\u001b[0m \u001b[0mImage\u001b[0m\u001b[0;34m\u001b[0m\u001b[0m\n\u001b[1;32m      2\u001b[0m \u001b[0;34m\u001b[0m\u001b[0m\n\u001b[0;32m----> 3\u001b[0;31m \u001b[0mImage\u001b[0m\u001b[0;34m(\u001b[0m\u001b[0mfilename\u001b[0m\u001b[0;34m=\u001b[0m\u001b[0;34m'images/logo.png'\u001b[0m\u001b[0;34m)\u001b[0m\u001b[0;34m\u001b[0m\u001b[0m\n\u001b[0m",
        "\u001b[0;32m/opt/local/Library/Frameworks/Python.framework/Versions/2.7/lib/python2.7/site-packages/IPython/core/display.pyc\u001b[0m in \u001b[0;36m__init__\u001b[0;34m(self, data, url, filename, format, embed, width, height, retina)\u001b[0m\n\u001b[1;32m    599\u001b[0m         \u001b[0mself\u001b[0m\u001b[0;34m.\u001b[0m\u001b[0mheight\u001b[0m \u001b[0;34m=\u001b[0m \u001b[0mheight\u001b[0m\u001b[0;34m\u001b[0m\u001b[0m\n\u001b[1;32m    600\u001b[0m         \u001b[0mself\u001b[0m\u001b[0;34m.\u001b[0m\u001b[0mretina\u001b[0m \u001b[0;34m=\u001b[0m \u001b[0mretina\u001b[0m\u001b[0;34m\u001b[0m\u001b[0m\n\u001b[0;32m--> 601\u001b[0;31m         \u001b[0msuper\u001b[0m\u001b[0;34m(\u001b[0m\u001b[0mImage\u001b[0m\u001b[0;34m,\u001b[0m \u001b[0mself\u001b[0m\u001b[0;34m)\u001b[0m\u001b[0;34m.\u001b[0m\u001b[0m__init__\u001b[0m\u001b[0;34m(\u001b[0m\u001b[0mdata\u001b[0m\u001b[0;34m=\u001b[0m\u001b[0mdata\u001b[0m\u001b[0;34m,\u001b[0m \u001b[0murl\u001b[0m\u001b[0;34m=\u001b[0m\u001b[0murl\u001b[0m\u001b[0;34m,\u001b[0m \u001b[0mfilename\u001b[0m\u001b[0;34m=\u001b[0m\u001b[0mfilename\u001b[0m\u001b[0;34m)\u001b[0m\u001b[0;34m\u001b[0m\u001b[0m\n\u001b[0m\u001b[1;32m    602\u001b[0m \u001b[0;34m\u001b[0m\u001b[0m\n\u001b[1;32m    603\u001b[0m         \u001b[0;32mif\u001b[0m \u001b[0mretina\u001b[0m\u001b[0;34m:\u001b[0m\u001b[0;34m\u001b[0m\u001b[0m\n",
        "\u001b[0;32m/opt/local/Library/Frameworks/Python.framework/Versions/2.7/lib/python2.7/site-packages/IPython/core/display.pyc\u001b[0m in \u001b[0;36m__init__\u001b[0;34m(self, data, url, filename)\u001b[0m\n\u001b[1;32m    303\u001b[0m         \u001b[0mself\u001b[0m\u001b[0;34m.\u001b[0m\u001b[0mfilename\u001b[0m \u001b[0;34m=\u001b[0m \u001b[0mNone\u001b[0m \u001b[0;32mif\u001b[0m \u001b[0mfilename\u001b[0m \u001b[0;32mis\u001b[0m \u001b[0mNone\u001b[0m \u001b[0;32melse\u001b[0m \u001b[0municode\u001b[0m\u001b[0;34m(\u001b[0m\u001b[0mfilename\u001b[0m\u001b[0;34m)\u001b[0m\u001b[0;34m\u001b[0m\u001b[0m\n\u001b[1;32m    304\u001b[0m \u001b[0;34m\u001b[0m\u001b[0m\n\u001b[0;32m--> 305\u001b[0;31m         \u001b[0mself\u001b[0m\u001b[0;34m.\u001b[0m\u001b[0mreload\u001b[0m\u001b[0;34m(\u001b[0m\u001b[0;34m)\u001b[0m\u001b[0;34m\u001b[0m\u001b[0m\n\u001b[0m\u001b[1;32m    306\u001b[0m \u001b[0;34m\u001b[0m\u001b[0m\n\u001b[1;32m    307\u001b[0m     \u001b[0;32mdef\u001b[0m \u001b[0mreload\u001b[0m\u001b[0;34m(\u001b[0m\u001b[0mself\u001b[0m\u001b[0;34m)\u001b[0m\u001b[0;34m:\u001b[0m\u001b[0;34m\u001b[0m\u001b[0m\n",
        "\u001b[0;32m/opt/local/Library/Frameworks/Python.framework/Versions/2.7/lib/python2.7/site-packages/IPython/core/display.pyc\u001b[0m in \u001b[0;36mreload\u001b[0;34m(self)\u001b[0m\n\u001b[1;32m    621\u001b[0m         \u001b[0;34m\"\"\"Reload the raw data from file or URL.\"\"\"\u001b[0m\u001b[0;34m\u001b[0m\u001b[0m\n\u001b[1;32m    622\u001b[0m         \u001b[0;32mif\u001b[0m \u001b[0mself\u001b[0m\u001b[0;34m.\u001b[0m\u001b[0membed\u001b[0m\u001b[0;34m:\u001b[0m\u001b[0;34m\u001b[0m\u001b[0m\n\u001b[0;32m--> 623\u001b[0;31m             \u001b[0msuper\u001b[0m\u001b[0;34m(\u001b[0m\u001b[0mImage\u001b[0m\u001b[0;34m,\u001b[0m\u001b[0mself\u001b[0m\u001b[0;34m)\u001b[0m\u001b[0;34m.\u001b[0m\u001b[0mreload\u001b[0m\u001b[0;34m(\u001b[0m\u001b[0;34m)\u001b[0m\u001b[0;34m\u001b[0m\u001b[0m\n\u001b[0m\u001b[1;32m    624\u001b[0m             \u001b[0;32mif\u001b[0m \u001b[0mself\u001b[0m\u001b[0;34m.\u001b[0m\u001b[0mretina\u001b[0m\u001b[0;34m:\u001b[0m\u001b[0;34m\u001b[0m\u001b[0m\n\u001b[1;32m    625\u001b[0m                 \u001b[0mself\u001b[0m\u001b[0;34m.\u001b[0m\u001b[0m_retina_shape\u001b[0m\u001b[0;34m(\u001b[0m\u001b[0;34m)\u001b[0m\u001b[0;34m\u001b[0m\u001b[0m\n",
        "\u001b[0;32m/opt/local/Library/Frameworks/Python.framework/Versions/2.7/lib/python2.7/site-packages/IPython/core/display.pyc\u001b[0m in \u001b[0;36mreload\u001b[0;34m(self)\u001b[0m\n\u001b[1;32m    308\u001b[0m         \u001b[0;34m\"\"\"Reload the raw data from file or URL.\"\"\"\u001b[0m\u001b[0;34m\u001b[0m\u001b[0m\n\u001b[1;32m    309\u001b[0m         \u001b[0;32mif\u001b[0m \u001b[0mself\u001b[0m\u001b[0;34m.\u001b[0m\u001b[0mfilename\u001b[0m \u001b[0;32mis\u001b[0m \u001b[0;32mnot\u001b[0m \u001b[0mNone\u001b[0m\u001b[0;34m:\u001b[0m\u001b[0;34m\u001b[0m\u001b[0m\n\u001b[0;32m--> 310\u001b[0;31m             \u001b[0;32mwith\u001b[0m \u001b[0mopen\u001b[0m\u001b[0;34m(\u001b[0m\u001b[0mself\u001b[0m\u001b[0;34m.\u001b[0m\u001b[0mfilename\u001b[0m\u001b[0;34m,\u001b[0m \u001b[0mself\u001b[0m\u001b[0;34m.\u001b[0m\u001b[0m_read_flags\u001b[0m\u001b[0;34m)\u001b[0m \u001b[0;32mas\u001b[0m \u001b[0mf\u001b[0m\u001b[0;34m:\u001b[0m\u001b[0;34m\u001b[0m\u001b[0m\n\u001b[0m\u001b[1;32m    311\u001b[0m                 \u001b[0mself\u001b[0m\u001b[0;34m.\u001b[0m\u001b[0mdata\u001b[0m \u001b[0;34m=\u001b[0m \u001b[0mf\u001b[0m\u001b[0;34m.\u001b[0m\u001b[0mread\u001b[0m\u001b[0;34m(\u001b[0m\u001b[0;34m)\u001b[0m\u001b[0;34m\u001b[0m\u001b[0m\n\u001b[1;32m    312\u001b[0m         \u001b[0;32melif\u001b[0m \u001b[0mself\u001b[0m\u001b[0;34m.\u001b[0m\u001b[0murl\u001b[0m \u001b[0;32mis\u001b[0m \u001b[0;32mnot\u001b[0m \u001b[0mNone\u001b[0m\u001b[0;34m:\u001b[0m\u001b[0;34m\u001b[0m\u001b[0m\n",
        "\u001b[0;31mIOError\u001b[0m: [Errno 2] No such file or directory: u'images/logo.png'"
       ]
      }
     ],
     "prompt_number": 13
    },
    {
     "cell_type": "code",
     "collapsed": false,
     "input": [
      "from IPython.display import YouTubeVideo\n",
      "\n",
      "YouTubeVideo('F4rFuIb1Ie4')"
     ],
     "language": "python",
     "metadata": {
      "slideshow": {
       "slide_start": false
      }
     },
     "outputs": [
      {
       "html": [
        "\n",
        "        <iframe\n",
        "            width=\"400\"\n",
        "            height=300\"\n",
        "            src=\"http://www.youtube.com/embed/F4rFuIb1Ie4\"\n",
        "            frameborder=\"0\"\n",
        "            allowfullscreen\n",
        "        ></iframe>\n",
        "        "
       ],
       "metadata": {},
       "output_type": "pyout",
       "prompt_number": 14,
       "text": [
        "<IPython.lib.display.YouTubeVideo at 0x107e77490>"
       ]
      }
     ],
     "prompt_number": 14
    },
    {
     "cell_type": "code",
     "collapsed": false,
     "input": [
      "# Alternatively, load an image from a URL\n",
      "Image(url='http://octodex.github.com/images/pythocat.png')"
     ],
     "language": "python",
     "metadata": {},
     "outputs": [
      {
       "html": [
        "<img src=\"http://octodex.github.com/images/pythocat.png\"/>"
       ],
       "metadata": {},
       "output_type": "pyout",
       "prompt_number": 15,
       "text": [
        "<IPython.core.display.Image at 0x107e77590>"
       ]
      }
     ],
     "prompt_number": 15
    },
    {
     "cell_type": "heading",
     "level": 2,
     "metadata": {},
     "source": [
      "Things I haven't covered"
     ]
    },
    {
     "cell_type": "markdown",
     "metadata": {},
     "source": [
      "* Hiding output\n",
      "* Debugging by attaching a QTConsole\n",
      "* Restarting the kernel in case of crashes\n",
      "* Cython magic\n",
      "\n",
      "* [Advanced IPython tutorial tomorrow](https://www.euroscipy.org/schedule/presentation/26/)"
     ]
    },
    {
     "cell_type": "heading",
     "level": 2,
     "metadata": {},
     "source": [
      "Hands-on time !"
     ]
    },
    {
     "cell_type": "markdown",
     "metadata": {},
     "source": [
      "Write a solution to the game from Werner Krauth (blackboard explanation, in maximum 6 lines (with the import statements !))"
     ]
    },
    {
     "cell_type": "code",
     "collapsed": false,
     "input": [
      "import random as r\n",
      "\n",
      "import math as m"
     ],
     "language": "python",
     "metadata": {},
     "outputs": [],
     "prompt_number": 6
    },
    {
     "cell_type": "code",
     "collapsed": false,
     "input": [
      "def pi_calc(N_samples):\n",
      "    # N_samples = 100000\n",
      "    n_inside = 0\n",
      "    for i in range(N_samples):\n",
      "        if m.sqrt((r.random()*.5)**2 + (r.random()*.5)**2) < .5:\n",
      "            n_inside += 1\n",
      "    \n",
      "    return 4.*n_inside/N_samples"
     ],
     "language": "python",
     "metadata": {},
     "outputs": [],
     "prompt_number": 4
    },
    {
     "cell_type": "code",
     "collapsed": false,
     "input": [
      "def pi_calc_better(N_samples):\n",
      "    # N_samples = 100000\n",
      "    n_inside = 0\n",
      "    for i in xrange(N_samples):\n",
      "        if ((r.random()*.5)**2 + (r.random()*.5)**2) < 0.25:\n",
      "            n_inside += 1\n",
      "    \n",
      "    return 4.*n_inside/N_samples"
     ],
     "language": "python",
     "metadata": {},
     "outputs": [],
     "prompt_number": 5
    },
    {
     "cell_type": "code",
     "collapsed": false,
     "input": [
      "%timeit (r.random(), r.random())\n",
      "\n",
      "%timeit (random_sample(2))"
     ],
     "language": "python",
     "metadata": {},
     "outputs": [
      {
       "output_type": "stream",
       "stream": "stdout",
       "text": [
        "1000000 loops, best of 3: 226 ns per loop\n",
        "1000000 loops, best of 3: 1.55 \u00b5s per loop"
       ]
      },
      {
       "output_type": "stream",
       "stream": "stdout",
       "text": [
        "\n"
       ]
      }
     ],
     "prompt_number": 34
    },
    {
     "cell_type": "code",
     "collapsed": false,
     "input": [
      "N = 100000\n",
      "\n",
      "%timeit pi_calc(N)\n",
      "%timeit pi_calc_better(N)"
     ],
     "language": "python",
     "metadata": {},
     "outputs": [
      {
       "output_type": "stream",
       "stream": "stdout",
       "text": [
        "10 loops, best of 3: 63.9 ms per loop\n",
        "10 loops, best of 3: 54 ms per loop"
       ]
      },
      {
       "output_type": "stream",
       "stream": "stdout",
       "text": [
        "\n"
       ]
      }
     ],
     "prompt_number": 7
    },
    {
     "cell_type": "code",
     "collapsed": false,
     "input": [
      "%timeit range(10000)\n",
      "%timeit xrange(10000)"
     ],
     "language": "python",
     "metadata": {},
     "outputs": [
      {
       "output_type": "stream",
       "stream": "stdout",
       "text": [
        "10000 loops, best of 3: 89.9 \u00b5s per loop\n",
        "1000000 loops, best of 3: 190 ns per loop"
       ]
      },
      {
       "output_type": "stream",
       "stream": "stdout",
       "text": [
        "\n"
       ]
      }
     ],
     "prompt_number": 2
    },
    {
     "cell_type": "code",
     "collapsed": false,
     "input": [],
     "language": "python",
     "metadata": {},
     "outputs": []
    }
   ],
   "metadata": {}
  }
 ]
}